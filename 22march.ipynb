{
 "cells": [
  {
   "cell_type": "code",
   "execution_count": 1,
   "id": "a725015a-9df8-4f69-a6b6-459ee7773b5b",
   "metadata": {},
   "outputs": [],
   "source": [
    "import pandas as pd "
   ]
  },
  {
   "cell_type": "code",
   "execution_count": 2,
   "id": "8de27e4f-c6bc-4c12-8b2e-760f3073d93a",
   "metadata": {},
   "outputs": [],
   "source": [
    "df3 =pd.DataFrame({'time':[3,5,7,9],\n",
    "                'exam_score':[55,65,77,95]\n",
    "                  })"
   ]
  },
  {
   "cell_type": "code",
   "execution_count": 3,
   "id": "b31cee6c-d068-4bac-8c3d-802c825db95c",
   "metadata": {},
   "outputs": [
    {
     "data": {
      "text/html": [
       "<div>\n",
       "<style scoped>\n",
       "    .dataframe tbody tr th:only-of-type {\n",
       "        vertical-align: middle;\n",
       "    }\n",
       "\n",
       "    .dataframe tbody tr th {\n",
       "        vertical-align: top;\n",
       "    }\n",
       "\n",
       "    .dataframe thead th {\n",
       "        text-align: right;\n",
       "    }\n",
       "</style>\n",
       "<table border=\"1\" class=\"dataframe\">\n",
       "  <thead>\n",
       "    <tr style=\"text-align: right;\">\n",
       "      <th></th>\n",
       "      <th>time</th>\n",
       "      <th>exam_score</th>\n",
       "    </tr>\n",
       "  </thead>\n",
       "  <tbody>\n",
       "    <tr>\n",
       "      <th>0</th>\n",
       "      <td>3</td>\n",
       "      <td>55</td>\n",
       "    </tr>\n",
       "    <tr>\n",
       "      <th>1</th>\n",
       "      <td>5</td>\n",
       "      <td>65</td>\n",
       "    </tr>\n",
       "    <tr>\n",
       "      <th>2</th>\n",
       "      <td>7</td>\n",
       "      <td>77</td>\n",
       "    </tr>\n",
       "    <tr>\n",
       "      <th>3</th>\n",
       "      <td>9</td>\n",
       "      <td>95</td>\n",
       "    </tr>\n",
       "  </tbody>\n",
       "</table>\n",
       "</div>"
      ],
      "text/plain": [
       "   time  exam_score\n",
       "0     3          55\n",
       "1     5          65\n",
       "2     7          77\n",
       "3     9          95"
      ]
     },
     "execution_count": 3,
     "metadata": {},
     "output_type": "execute_result"
    }
   ],
   "source": [
    "df3.head()"
   ]
  },
  {
   "cell_type": "code",
   "execution_count": 4,
   "id": "2479b17f-5c01-414b-8076-3a1a2ecf6b03",
   "metadata": {},
   "outputs": [],
   "source": [
    "a1=df3.cov()"
   ]
  },
  {
   "cell_type": "code",
   "execution_count": 5,
   "id": "e006702b-09b7-4ffd-984a-605a7770a73e",
   "metadata": {},
   "outputs": [],
   "source": [
    "b2=df3.std()"
   ]
  },
  {
   "cell_type": "code",
   "execution_count": 6,
   "id": "77970c40-60c6-4c7f-b5e4-54bb89599f77",
   "metadata": {},
   "outputs": [],
   "source": [
    "pearsn = a1/b2"
   ]
  },
  {
   "cell_type": "code",
   "execution_count": 7,
   "id": "f428a3e4-ab99-4366-a21f-4bf7a03f71ce",
   "metadata": {},
   "outputs": [
    {
     "data": {
      "text/html": [
       "<div>\n",
       "<style scoped>\n",
       "    .dataframe tbody tr th:only-of-type {\n",
       "        vertical-align: middle;\n",
       "    }\n",
       "\n",
       "    .dataframe tbody tr th {\n",
       "        vertical-align: top;\n",
       "    }\n",
       "\n",
       "    .dataframe thead th {\n",
       "        text-align: right;\n",
       "    }\n",
       "</style>\n",
       "<table border=\"1\" class=\"dataframe\">\n",
       "  <thead>\n",
       "    <tr style=\"text-align: right;\">\n",
       "      <th></th>\n",
       "      <th>time</th>\n",
       "      <th>exam_score</th>\n",
       "    </tr>\n",
       "  </thead>\n",
       "  <tbody>\n",
       "    <tr>\n",
       "      <th>time</th>\n",
       "      <td>2.581989</td>\n",
       "      <td>2.557448</td>\n",
       "    </tr>\n",
       "    <tr>\n",
       "      <th>exam_score</th>\n",
       "      <td>17.041127</td>\n",
       "      <td>17.204651</td>\n",
       "    </tr>\n",
       "  </tbody>\n",
       "</table>\n",
       "</div>"
      ],
      "text/plain": [
       "                 time  exam_score\n",
       "time         2.581989    2.557448\n",
       "exam_score  17.041127   17.204651"
      ]
     },
     "execution_count": 7,
     "metadata": {},
     "output_type": "execute_result"
    }
   ],
   "source": [
    "pearsn"
   ]
  },
  {
   "cell_type": "code",
   "execution_count": 8,
   "id": "fa0ffd67-db7c-4b57-b740-e5911c46fded",
   "metadata": {},
   "outputs": [],
   "source": [
    "df= pd.DataFrame({'sleep':[6,7,8,9,5,4],\n",
    "                 'job_satis':[7,6,8,10,4,3]\n",
    "                 })"
   ]
  },
  {
   "cell_type": "code",
   "execution_count": null,
   "id": "08ff4e57-90cc-4bc0-a43e-645fdc4966a6",
   "metadata": {},
   "outputs": [],
   "source": []
  },
  {
   "cell_type": "code",
   "execution_count": 9,
   "id": "df0d0159-4877-4eea-a0b0-27db8a870c29",
   "metadata": {},
   "outputs": [],
   "source": [
    "a=df.rank().cov()"
   ]
  },
  {
   "cell_type": "code",
   "execution_count": 10,
   "id": "98a5e9a6-1b66-40ee-93b5-e06a86e78e6c",
   "metadata": {},
   "outputs": [],
   "source": [
    "b=df.rank().std()"
   ]
  },
  {
   "cell_type": "code",
   "execution_count": 11,
   "id": "199b5463-e126-4945-950b-bdf9b573878c",
   "metadata": {},
   "outputs": [],
   "source": [
    "spearman=a/b"
   ]
  },
  {
   "cell_type": "code",
   "execution_count": 12,
   "id": "e3c80aa9-4ec6-4a90-a029-01471f911933",
   "metadata": {},
   "outputs": [
    {
     "data": {
      "text/html": [
       "<div>\n",
       "<style scoped>\n",
       "    .dataframe tbody tr th:only-of-type {\n",
       "        vertical-align: middle;\n",
       "    }\n",
       "\n",
       "    .dataframe tbody tr th {\n",
       "        vertical-align: top;\n",
       "    }\n",
       "\n",
       "    .dataframe thead th {\n",
       "        text-align: right;\n",
       "    }\n",
       "</style>\n",
       "<table border=\"1\" class=\"dataframe\">\n",
       "  <thead>\n",
       "    <tr style=\"text-align: right;\">\n",
       "      <th></th>\n",
       "      <th>sleep</th>\n",
       "      <th>job_satis</th>\n",
       "    </tr>\n",
       "  </thead>\n",
       "  <tbody>\n",
       "    <tr>\n",
       "      <th>sleep</th>\n",
       "      <td>1.870829</td>\n",
       "      <td>1.763924</td>\n",
       "    </tr>\n",
       "    <tr>\n",
       "      <th>job_satis</th>\n",
       "      <td>1.763924</td>\n",
       "      <td>1.870829</td>\n",
       "    </tr>\n",
       "  </tbody>\n",
       "</table>\n",
       "</div>"
      ],
      "text/plain": [
       "              sleep  job_satis\n",
       "sleep      1.870829   1.763924\n",
       "job_satis  1.763924   1.870829"
      ]
     },
     "execution_count": 12,
     "metadata": {},
     "output_type": "execute_result"
    }
   ],
   "source": [
    "spearman"
   ]
  },
  {
   "cell_type": "code",
   "execution_count": 13,
   "id": "03a8c5ea-e172-4af6-bea6-d5413353da0f",
   "metadata": {},
   "outputs": [],
   "source": [
    "#3"
   ]
  },
  {
   "cell_type": "code",
   "execution_count": 14,
   "id": "a9bb96e2-5ca1-4712-8e2c-8203d2c31f89",
   "metadata": {},
   "outputs": [],
   "source": [
    "import numpy as np"
   ]
  },
  {
   "cell_type": "code",
   "execution_count": 15,
   "id": "39bf1578-8b69-41e4-b590-b2877fb6fb0b",
   "metadata": {},
   "outputs": [],
   "source": [
    "no_of_exercise=np.random.randint(1,5,50)"
   ]
  },
  {
   "cell_type": "code",
   "execution_count": 31,
   "id": "1bd53523-7cf0-4fc0-b7f8-ffd3c08a2140",
   "metadata": {},
   "outputs": [],
   "source": [
    "dd=pd.DataFrame({'no_of_exercrise':np.random.randint(1,5,50)})"
   ]
  },
  {
   "cell_type": "code",
   "execution_count": 32,
   "id": "999df01c-9a9a-422c-89ca-e06ae7101a91",
   "metadata": {},
   "outputs": [],
   "source": [
    "dd1=pd.DataFrame({'BMI':np.random.randint(1,20,50)})"
   ]
  },
  {
   "cell_type": "code",
   "execution_count": 37,
   "id": "87cf6219-f3e3-46cc-80af-06d7cb8a9103",
   "metadata": {},
   "outputs": [
    {
     "data": {
      "text/html": [
       "<div>\n",
       "<style scoped>\n",
       "    .dataframe tbody tr th:only-of-type {\n",
       "        vertical-align: middle;\n",
       "    }\n",
       "\n",
       "    .dataframe tbody tr th {\n",
       "        vertical-align: top;\n",
       "    }\n",
       "\n",
       "    .dataframe thead th {\n",
       "        text-align: right;\n",
       "    }\n",
       "</style>\n",
       "<table border=\"1\" class=\"dataframe\">\n",
       "  <thead>\n",
       "    <tr style=\"text-align: right;\">\n",
       "      <th></th>\n",
       "      <th>no_of_exercrise</th>\n",
       "    </tr>\n",
       "  </thead>\n",
       "  <tbody>\n",
       "    <tr>\n",
       "      <th>0</th>\n",
       "      <td>1</td>\n",
       "    </tr>\n",
       "    <tr>\n",
       "      <th>1</th>\n",
       "      <td>3</td>\n",
       "    </tr>\n",
       "    <tr>\n",
       "      <th>2</th>\n",
       "      <td>1</td>\n",
       "    </tr>\n",
       "    <tr>\n",
       "      <th>3</th>\n",
       "      <td>3</td>\n",
       "    </tr>\n",
       "    <tr>\n",
       "      <th>4</th>\n",
       "      <td>4</td>\n",
       "    </tr>\n",
       "  </tbody>\n",
       "</table>\n",
       "</div>"
      ],
      "text/plain": [
       "   no_of_exercrise\n",
       "0                1\n",
       "1                3\n",
       "2                1\n",
       "3                3\n",
       "4                4"
      ]
     },
     "execution_count": 37,
     "metadata": {},
     "output_type": "execute_result"
    }
   ],
   "source": [
    "b=dd.head()"
   ]
  },
  {
   "cell_type": "code",
   "execution_count": 41,
   "id": "93b5f949-85d4-4227-9d29-e02e93ddeac9",
   "metadata": {},
   "outputs": [],
   "source": [
    "e=b.cov(dd)"
   ]
  },
  {
   "cell_type": "code",
   "execution_count": 44,
   "id": "fff66072-a7a2-4b03-97b9-2c97d5bed126",
   "metadata": {},
   "outputs": [],
   "source": [
    "f=a.std()"
   ]
  },
  {
   "cell_type": "code",
   "execution_count": 45,
   "id": "ee82bff4-222b-4436-8ece-3953f4cdd43f",
   "metadata": {},
   "outputs": [],
   "source": [
    "a=dd1.head()"
   ]
  },
  {
   "cell_type": "code",
   "execution_count": 46,
   "id": "f44479a5-b931-4f6f-ab9b-476bbc30b910",
   "metadata": {},
   "outputs": [],
   "source": [
    "perason=e/f"
   ]
  },
  {
   "cell_type": "code",
   "execution_count": 47,
   "id": "19f834b1-5a85-4b9e-9892-a9b22e4997ff",
   "metadata": {},
   "outputs": [
    {
     "data": {
      "text/plain": [
       "sleep       NaN\n",
       "job_satis   NaN\n",
       "dtype: float64"
      ]
     },
     "execution_count": 47,
     "metadata": {},
     "output_type": "execute_result"
    }
   ],
   "source": [
    "perason"
   ]
  },
  {
   "cell_type": "code",
   "execution_count": 48,
   "id": "bb5a3f21-0326-4216-8cfd-50542bbaeb07",
   "metadata": {},
   "outputs": [],
   "source": [
    "r=dd.rank()"
   ]
  },
  {
   "cell_type": "code",
   "execution_count": 49,
   "id": "e4e549e6-100c-4abe-8675-c86b7265d3f3",
   "metadata": {},
   "outputs": [],
   "source": [
    "w=r.cov()"
   ]
  },
  {
   "cell_type": "code",
   "execution_count": 50,
   "id": "6914530d-e9a8-4cb7-ac6d-ee0190015fbd",
   "metadata": {},
   "outputs": [],
   "source": [
    "s=dd.std()"
   ]
  },
  {
   "cell_type": "code",
   "execution_count": 51,
   "id": "ff5dbc80-603e-4f62-bf2b-e52c04537c28",
   "metadata": {},
   "outputs": [],
   "source": [
    "sperman=r/s"
   ]
  },
  {
   "cell_type": "code",
   "execution_count": 52,
   "id": "c330f72e-8979-47b6-bc34-e3d8afb5c657",
   "metadata": {},
   "outputs": [
    {
     "data": {
      "text/html": [
       "<div>\n",
       "<style scoped>\n",
       "    .dataframe tbody tr th:only-of-type {\n",
       "        vertical-align: middle;\n",
       "    }\n",
       "\n",
       "    .dataframe tbody tr th {\n",
       "        vertical-align: top;\n",
       "    }\n",
       "\n",
       "    .dataframe thead th {\n",
       "        text-align: right;\n",
       "    }\n",
       "</style>\n",
       "<table border=\"1\" class=\"dataframe\">\n",
       "  <thead>\n",
       "    <tr style=\"text-align: right;\">\n",
       "      <th></th>\n",
       "      <th>no_of_exercrise</th>\n",
       "    </tr>\n",
       "  </thead>\n",
       "  <tbody>\n",
       "    <tr>\n",
       "      <th>0</th>\n",
       "      <td>6.187184</td>\n",
       "    </tr>\n",
       "    <tr>\n",
       "      <th>1</th>\n",
       "      <td>23.511300</td>\n",
       "    </tr>\n",
       "    <tr>\n",
       "      <th>2</th>\n",
       "      <td>6.187184</td>\n",
       "    </tr>\n",
       "    <tr>\n",
       "      <th>3</th>\n",
       "      <td>23.511300</td>\n",
       "    </tr>\n",
       "    <tr>\n",
       "      <th>4</th>\n",
       "      <td>35.060711</td>\n",
       "    </tr>\n",
       "    <tr>\n",
       "      <th>5</th>\n",
       "      <td>23.511300</td>\n",
       "    </tr>\n",
       "    <tr>\n",
       "      <th>6</th>\n",
       "      <td>15.261721</td>\n",
       "    </tr>\n",
       "    <tr>\n",
       "      <th>7</th>\n",
       "      <td>23.511300</td>\n",
       "    </tr>\n",
       "    <tr>\n",
       "      <th>8</th>\n",
       "      <td>15.261721</td>\n",
       "    </tr>\n",
       "    <tr>\n",
       "      <th>9</th>\n",
       "      <td>35.060711</td>\n",
       "    </tr>\n",
       "    <tr>\n",
       "      <th>10</th>\n",
       "      <td>23.511300</td>\n",
       "    </tr>\n",
       "    <tr>\n",
       "      <th>11</th>\n",
       "      <td>15.261721</td>\n",
       "    </tr>\n",
       "    <tr>\n",
       "      <th>12</th>\n",
       "      <td>6.187184</td>\n",
       "    </tr>\n",
       "    <tr>\n",
       "      <th>13</th>\n",
       "      <td>6.187184</td>\n",
       "    </tr>\n",
       "    <tr>\n",
       "      <th>14</th>\n",
       "      <td>35.060711</td>\n",
       "    </tr>\n",
       "    <tr>\n",
       "      <th>15</th>\n",
       "      <td>6.187184</td>\n",
       "    </tr>\n",
       "    <tr>\n",
       "      <th>16</th>\n",
       "      <td>23.511300</td>\n",
       "    </tr>\n",
       "    <tr>\n",
       "      <th>17</th>\n",
       "      <td>6.187184</td>\n",
       "    </tr>\n",
       "    <tr>\n",
       "      <th>18</th>\n",
       "      <td>35.060711</td>\n",
       "    </tr>\n",
       "    <tr>\n",
       "      <th>19</th>\n",
       "      <td>6.187184</td>\n",
       "    </tr>\n",
       "    <tr>\n",
       "      <th>20</th>\n",
       "      <td>6.187184</td>\n",
       "    </tr>\n",
       "    <tr>\n",
       "      <th>21</th>\n",
       "      <td>23.511300</td>\n",
       "    </tr>\n",
       "    <tr>\n",
       "      <th>22</th>\n",
       "      <td>6.187184</td>\n",
       "    </tr>\n",
       "    <tr>\n",
       "      <th>23</th>\n",
       "      <td>35.060711</td>\n",
       "    </tr>\n",
       "    <tr>\n",
       "      <th>24</th>\n",
       "      <td>35.060711</td>\n",
       "    </tr>\n",
       "    <tr>\n",
       "      <th>25</th>\n",
       "      <td>6.187184</td>\n",
       "    </tr>\n",
       "    <tr>\n",
       "      <th>26</th>\n",
       "      <td>35.060711</td>\n",
       "    </tr>\n",
       "    <tr>\n",
       "      <th>27</th>\n",
       "      <td>6.187184</td>\n",
       "    </tr>\n",
       "    <tr>\n",
       "      <th>28</th>\n",
       "      <td>15.261721</td>\n",
       "    </tr>\n",
       "    <tr>\n",
       "      <th>29</th>\n",
       "      <td>35.060711</td>\n",
       "    </tr>\n",
       "    <tr>\n",
       "      <th>30</th>\n",
       "      <td>35.060711</td>\n",
       "    </tr>\n",
       "    <tr>\n",
       "      <th>31</th>\n",
       "      <td>23.511300</td>\n",
       "    </tr>\n",
       "    <tr>\n",
       "      <th>32</th>\n",
       "      <td>23.511300</td>\n",
       "    </tr>\n",
       "    <tr>\n",
       "      <th>33</th>\n",
       "      <td>35.060711</td>\n",
       "    </tr>\n",
       "    <tr>\n",
       "      <th>34</th>\n",
       "      <td>35.060711</td>\n",
       "    </tr>\n",
       "    <tr>\n",
       "      <th>35</th>\n",
       "      <td>35.060711</td>\n",
       "    </tr>\n",
       "    <tr>\n",
       "      <th>36</th>\n",
       "      <td>15.261721</td>\n",
       "    </tr>\n",
       "    <tr>\n",
       "      <th>37</th>\n",
       "      <td>15.261721</td>\n",
       "    </tr>\n",
       "    <tr>\n",
       "      <th>38</th>\n",
       "      <td>23.511300</td>\n",
       "    </tr>\n",
       "    <tr>\n",
       "      <th>39</th>\n",
       "      <td>15.261721</td>\n",
       "    </tr>\n",
       "    <tr>\n",
       "      <th>40</th>\n",
       "      <td>35.060711</td>\n",
       "    </tr>\n",
       "    <tr>\n",
       "      <th>41</th>\n",
       "      <td>6.187184</td>\n",
       "    </tr>\n",
       "    <tr>\n",
       "      <th>42</th>\n",
       "      <td>6.187184</td>\n",
       "    </tr>\n",
       "    <tr>\n",
       "      <th>43</th>\n",
       "      <td>35.060711</td>\n",
       "    </tr>\n",
       "    <tr>\n",
       "      <th>44</th>\n",
       "      <td>35.060711</td>\n",
       "    </tr>\n",
       "    <tr>\n",
       "      <th>45</th>\n",
       "      <td>35.060711</td>\n",
       "    </tr>\n",
       "    <tr>\n",
       "      <th>46</th>\n",
       "      <td>15.261721</td>\n",
       "    </tr>\n",
       "    <tr>\n",
       "      <th>47</th>\n",
       "      <td>6.187184</td>\n",
       "    </tr>\n",
       "    <tr>\n",
       "      <th>48</th>\n",
       "      <td>23.511300</td>\n",
       "    </tr>\n",
       "    <tr>\n",
       "      <th>49</th>\n",
       "      <td>23.511300</td>\n",
       "    </tr>\n",
       "  </tbody>\n",
       "</table>\n",
       "</div>"
      ],
      "text/plain": [
       "    no_of_exercrise\n",
       "0          6.187184\n",
       "1         23.511300\n",
       "2          6.187184\n",
       "3         23.511300\n",
       "4         35.060711\n",
       "5         23.511300\n",
       "6         15.261721\n",
       "7         23.511300\n",
       "8         15.261721\n",
       "9         35.060711\n",
       "10        23.511300\n",
       "11        15.261721\n",
       "12         6.187184\n",
       "13         6.187184\n",
       "14        35.060711\n",
       "15         6.187184\n",
       "16        23.511300\n",
       "17         6.187184\n",
       "18        35.060711\n",
       "19         6.187184\n",
       "20         6.187184\n",
       "21        23.511300\n",
       "22         6.187184\n",
       "23        35.060711\n",
       "24        35.060711\n",
       "25         6.187184\n",
       "26        35.060711\n",
       "27         6.187184\n",
       "28        15.261721\n",
       "29        35.060711\n",
       "30        35.060711\n",
       "31        23.511300\n",
       "32        23.511300\n",
       "33        35.060711\n",
       "34        35.060711\n",
       "35        35.060711\n",
       "36        15.261721\n",
       "37        15.261721\n",
       "38        23.511300\n",
       "39        15.261721\n",
       "40        35.060711\n",
       "41         6.187184\n",
       "42         6.187184\n",
       "43        35.060711\n",
       "44        35.060711\n",
       "45        35.060711\n",
       "46        15.261721\n",
       "47         6.187184\n",
       "48        23.511300\n",
       "49        23.511300"
      ]
     },
     "execution_count": 52,
     "metadata": {},
     "output_type": "execute_result"
    }
   ],
   "source": [
    "sperman"
   ]
  },
  {
   "cell_type": "code",
   "execution_count": 54,
   "id": "0965152b-3a5e-44d8-a518-7b955b5fded3",
   "metadata": {},
   "outputs": [],
   "source": [
    "fd= pd.DataFrame({'no_of_hours_tv':np.random.randint(2,4,50),\n",
    "                 'level_of_phy_act':np.random.randint(0,1,50)})"
   ]
  },
  {
   "cell_type": "code",
   "execution_count": 56,
   "id": "02fb8bed-0951-4d7b-ac38-573f848052a1",
   "metadata": {},
   "outputs": [],
   "source": [
    "a= fd['no_of_hours_tv']"
   ]
  },
  {
   "cell_type": "code",
   "execution_count": 61,
   "id": "8e25221f-0282-4f4d-8074-daa5143748a6",
   "metadata": {},
   "outputs": [],
   "source": [
    "a=fd.cov()"
   ]
  },
  {
   "cell_type": "code",
   "execution_count": 64,
   "id": "6b3bc0a9-4250-4ea5-a790-3f1c1afdb9b2",
   "metadata": {},
   "outputs": [],
   "source": [
    "v=fd.std()"
   ]
  },
  {
   "cell_type": "code",
   "execution_count": 66,
   "id": "89557089-124f-4637-8936-6bf43cfe0f9c",
   "metadata": {},
   "outputs": [],
   "source": [
    "perasonw=a/v"
   ]
  },
  {
   "cell_type": "code",
   "execution_count": 67,
   "id": "6b3a3b6a-38fb-4e0b-8654-d8d7096ee478",
   "metadata": {},
   "outputs": [
    {
     "data": {
      "text/html": [
       "<div>\n",
       "<style scoped>\n",
       "    .dataframe tbody tr th:only-of-type {\n",
       "        vertical-align: middle;\n",
       "    }\n",
       "\n",
       "    .dataframe tbody tr th {\n",
       "        vertical-align: top;\n",
       "    }\n",
       "\n",
       "    .dataframe thead th {\n",
       "        text-align: right;\n",
       "    }\n",
       "</style>\n",
       "<table border=\"1\" class=\"dataframe\">\n",
       "  <thead>\n",
       "    <tr style=\"text-align: right;\">\n",
       "      <th></th>\n",
       "      <th>no_of_hours_tv</th>\n",
       "      <th>level_of_phy_act</th>\n",
       "    </tr>\n",
       "  </thead>\n",
       "  <tbody>\n",
       "    <tr>\n",
       "      <th>no_of_hours_tv</th>\n",
       "      <td>0.494872</td>\n",
       "      <td>NaN</td>\n",
       "    </tr>\n",
       "    <tr>\n",
       "      <th>level_of_phy_act</th>\n",
       "      <td>0.000000</td>\n",
       "      <td>NaN</td>\n",
       "    </tr>\n",
       "  </tbody>\n",
       "</table>\n",
       "</div>"
      ],
      "text/plain": [
       "                  no_of_hours_tv  level_of_phy_act\n",
       "no_of_hours_tv          0.494872               NaN\n",
       "level_of_phy_act        0.000000               NaN"
      ]
     },
     "execution_count": 67,
     "metadata": {},
     "output_type": "execute_result"
    }
   ],
   "source": [
    "perasonw"
   ]
  },
  {
   "cell_type": "code",
   "execution_count": null,
   "id": "5d1d1368-df31-4bbd-8e56-5221049d8d42",
   "metadata": {},
   "outputs": [],
   "source": []
  },
  {
   "cell_type": "code",
   "execution_count": 109,
   "id": "be1c9646-64cb-43c5-b67f-9252b81a81bd",
   "metadata": {},
   "outputs": [],
   "source": [
    "dfw=pd.DataFrame({'age':[25,42,37,19,31,28],\n",
    "                 'soft_drink_prefence':['coke','pepsi','mountain_dew','coke','pepsi','coke']})"
   ]
  },
  {
   "cell_type": "code",
   "execution_count": 130,
   "id": "ab57c394-c539-46c3-a059-d64f5090e070",
   "metadata": {},
   "outputs": [],
   "source": [
    "z1=dfw.groupby('soft_drink_prefence').std()"
   ]
  },
  {
   "cell_type": "code",
   "execution_count": 119,
   "id": "32260b74-39bd-4ddd-bb9b-33134998091b",
   "metadata": {},
   "outputs": [],
   "source": [
    "a=dfw.groupby('soft_drink_prefence')['age'].rank().to_numpy()"
   ]
  },
  {
   "cell_type": "code",
   "execution_count": 123,
   "id": "5e91aba5-7362-458d-87c7-54806c7353fb",
   "metadata": {},
   "outputs": [],
   "source": [
    "w=pd.DataFrame(a)"
   ]
  },
  {
   "cell_type": "code",
   "execution_count": 125,
   "id": "fb0d20e8-1259-4584-bb12-cb59f1b6aeee",
   "metadata": {},
   "outputs": [],
   "source": [
    "a1=w.cov()"
   ]
  },
  {
   "cell_type": "code",
   "execution_count": 131,
   "id": "420afbca-678e-49c6-8494-6c514f9315cd",
   "metadata": {},
   "outputs": [],
   "source": [
    "rank_cor=a1/z1"
   ]
  },
  {
   "cell_type": "code",
   "execution_count": 132,
   "id": "2bf66f3c-6802-478c-afac-35985137418a",
   "metadata": {},
   "outputs": [
    {
     "data": {
      "text/html": [
       "<div>\n",
       "<style scoped>\n",
       "    .dataframe tbody tr th:only-of-type {\n",
       "        vertical-align: middle;\n",
       "    }\n",
       "\n",
       "    .dataframe tbody tr th {\n",
       "        vertical-align: top;\n",
       "    }\n",
       "\n",
       "    .dataframe thead th {\n",
       "        text-align: right;\n",
       "    }\n",
       "</style>\n",
       "<table border=\"1\" class=\"dataframe\">\n",
       "  <thead>\n",
       "    <tr style=\"text-align: right;\">\n",
       "      <th></th>\n",
       "      <th>0</th>\n",
       "      <th>age</th>\n",
       "    </tr>\n",
       "  </thead>\n",
       "  <tbody>\n",
       "    <tr>\n",
       "      <th>0</th>\n",
       "      <td>NaN</td>\n",
       "      <td>NaN</td>\n",
       "    </tr>\n",
       "    <tr>\n",
       "      <th>coke</th>\n",
       "      <td>NaN</td>\n",
       "      <td>NaN</td>\n",
       "    </tr>\n",
       "    <tr>\n",
       "      <th>mountain_dew</th>\n",
       "      <td>NaN</td>\n",
       "      <td>NaN</td>\n",
       "    </tr>\n",
       "    <tr>\n",
       "      <th>pepsi</th>\n",
       "      <td>NaN</td>\n",
       "      <td>NaN</td>\n",
       "    </tr>\n",
       "  </tbody>\n",
       "</table>\n",
       "</div>"
      ],
      "text/plain": [
       "               0  age\n",
       "0            NaN  NaN\n",
       "coke         NaN  NaN\n",
       "mountain_dew NaN  NaN\n",
       "pepsi        NaN  NaN"
      ]
     },
     "execution_count": 132,
     "metadata": {},
     "output_type": "execute_result"
    }
   ],
   "source": [
    "rank_cor"
   ]
  },
  {
   "cell_type": "code",
   "execution_count": 135,
   "id": "5c72b59d-08f6-4788-b648-a58d3fe54513",
   "metadata": {},
   "outputs": [],
   "source": [
    "dfq = pd.DataFrame({'no_of_sales_day':np.random.randint(50,100,30),\n",
    "                   'no_of_sales_week':np.random.randint(150,300,30)\n",
    "                   })"
   ]
  },
  {
   "cell_type": "code",
   "execution_count": 149,
   "id": "5e20839a-5608-4179-b05c-41d6db7fee59",
   "metadata": {},
   "outputs": [
    {
     "data": {
      "text/html": [
       "<div>\n",
       "<style scoped>\n",
       "    .dataframe tbody tr th:only-of-type {\n",
       "        vertical-align: middle;\n",
       "    }\n",
       "\n",
       "    .dataframe tbody tr th {\n",
       "        vertical-align: top;\n",
       "    }\n",
       "\n",
       "    .dataframe thead th {\n",
       "        text-align: right;\n",
       "    }\n",
       "</style>\n",
       "<table border=\"1\" class=\"dataframe\">\n",
       "  <thead>\n",
       "    <tr style=\"text-align: right;\">\n",
       "      <th></th>\n",
       "      <th>no_of_sales_day</th>\n",
       "      <th>no_of_sales_week</th>\n",
       "    </tr>\n",
       "  </thead>\n",
       "  <tbody>\n",
       "    <tr>\n",
       "      <th>no_of_sales_day</th>\n",
       "      <td>199.702299</td>\n",
       "      <td>8.236782</td>\n",
       "    </tr>\n",
       "    <tr>\n",
       "      <th>no_of_sales_week</th>\n",
       "      <td>8.236782</td>\n",
       "      <td>1739.029885</td>\n",
       "    </tr>\n",
       "  </tbody>\n",
       "</table>\n",
       "</div>"
      ],
      "text/plain": [
       "                  no_of_sales_day  no_of_sales_week\n",
       "no_of_sales_day        199.702299          8.236782\n",
       "no_of_sales_week         8.236782       1739.029885"
      ]
     },
     "execution_count": 149,
     "metadata": {},
     "output_type": "execute_result"
    }
   ],
   "source": [
    "a=dfq.cov()"
   ]
  },
  {
   "cell_type": "code",
   "execution_count": 151,
   "id": "0ebb960b-178a-446b-a2f6-43ef4a2f25d0",
   "metadata": {},
   "outputs": [],
   "source": [
    "b =dfq.std()"
   ]
  },
  {
   "cell_type": "code",
   "execution_count": 152,
   "id": "64f355f7-2d50-4525-87f1-821a9fe019c1",
   "metadata": {},
   "outputs": [],
   "source": [
    "pearson =a /b"
   ]
  },
  {
   "cell_type": "code",
   "execution_count": 153,
   "id": "edc75d9e-71ce-43dd-acfe-2e1b09e6ac71",
   "metadata": {},
   "outputs": [
    {
     "data": {
      "text/plain": [
       "0                  NaN\n",
       "1                  NaN\n",
       "2                  NaN\n",
       "3                  NaN\n",
       "4                  NaN\n",
       "5                  NaN\n",
       "6                  NaN\n",
       "7                  NaN\n",
       "8                  NaN\n",
       "9                  NaN\n",
       "10                 NaN\n",
       "11                 NaN\n",
       "12                 NaN\n",
       "13                 NaN\n",
       "14                 NaN\n",
       "15                 NaN\n",
       "16                 NaN\n",
       "17                 NaN\n",
       "18                 NaN\n",
       "19                 NaN\n",
       "20                 NaN\n",
       "21                 NaN\n",
       "22                 NaN\n",
       "23                 NaN\n",
       "24                 NaN\n",
       "25                 NaN\n",
       "26                 NaN\n",
       "27                 NaN\n",
       "28                 NaN\n",
       "29                 NaN\n",
       "no_of_sales_day    NaN\n",
       "no_of_sales_week   NaN\n",
       "dtype: float64"
      ]
     },
     "execution_count": 153,
     "metadata": {},
     "output_type": "execute_result"
    }
   ],
   "source": [
    "pearson"
   ]
  },
  {
   "cell_type": "code",
   "execution_count": null,
   "id": "761d809b-5b9f-4ada-bb02-d6560b27593a",
   "metadata": {},
   "outputs": [],
   "source": []
  }
 ],
 "metadata": {
  "kernelspec": {
   "display_name": "Python 3 (ipykernel)",
   "language": "python",
   "name": "python3"
  },
  "language_info": {
   "codemirror_mode": {
    "name": "ipython",
    "version": 3
   },
   "file_extension": ".py",
   "mimetype": "text/x-python",
   "name": "python",
   "nbconvert_exporter": "python",
   "pygments_lexer": "ipython3",
   "version": "3.10.8"
  }
 },
 "nbformat": 4,
 "nbformat_minor": 5
}
